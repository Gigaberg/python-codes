{
 "cells": [
  {
   "cell_type": "code",
   "execution_count": null,
   "id": "248b823a-3934-468c-b7a7-2b9660a9b174",
   "metadata": {},
   "outputs": [],
   "source": []
  }
 ],
 "metadata": {
  "kernelspec": {
   "display_name": "",
   "name": ""
  },
  "language_info": {
   "name": ""
  }
 },
 "nbformat": 4,
 "nbformat_minor": 5
}
